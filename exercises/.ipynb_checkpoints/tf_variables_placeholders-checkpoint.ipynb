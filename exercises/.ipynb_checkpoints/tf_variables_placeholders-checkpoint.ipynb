{
 "cells": [
  {
   "cell_type": "markdown",
   "metadata": {},
   "source": [
    "### Variables and Placeholders in TensorFlow"
   ]
  },
  {
   "cell_type": "raw",
   "metadata": {},
   "source": [
    "\"\"\"\n",
    "Variables hold values of weights and biases throughout the TF session\n",
    "- need initialization\n",
    "- required to tune the model parameters\n",
    "\n",
    "Placeholders are intially empty and used to feed actual training examples\n",
    "- only need declearation with a data type\n",
    "- optional shape argument\n",
    "- holds data in small batches\n",
    "\n",
    "Afterwards add the cost function to train the NNet to optimize the parameters\n",
    "\"\"\""
   ]
  },
  {
   "cell_type": "code",
   "execution_count": 14,
   "metadata": {},
   "outputs": [
    {
     "name": "stdout",
     "output_type": "stream",
     "text": [
      "<tf.Variable 'Variable_3:0' shape=(4, 4) dtype=float32_ref>\n"
     ]
    }
   ],
   "source": [
    "import numpy as np\n",
    "import tensorflow as tf\n",
    "sess = tf.InteractiveSession()\n",
    "\n",
    "my_tensor = tf.random_uniform((4, 4), 0, 1)\n",
    "my_var = tf.Variable(initial_value=my_tensor)\n",
    "\n",
    "print(my_var)"
   ]
  },
  {
   "cell_type": "code",
   "execution_count": 6,
   "metadata": {},
   "outputs": [
    {
     "data": {
      "text/plain": [
       "array([[0.51518226, 0.56020355, 0.37678945, 0.44908643],\n",
       "       [0.42766953, 0.55974627, 0.16653204, 0.49911344],\n",
       "       [0.02132487, 0.6148999 , 0.8542515 , 0.441692  ],\n",
       "       [0.72435963, 0.9037185 , 0.8712927 , 0.3301096 ]], dtype=float32)"
      ]
     },
     "execution_count": 6,
     "metadata": {},
     "output_type": "execute_result"
    }
   ],
   "source": [
    "# Initialize the variable(s)\n",
    "init = tf.global_variables_initializer() # Must to do, rather simple\n",
    "sess.run(init)\n",
    "sess.run(my_var)"
   ]
  },
  {
   "cell_type": "code",
   "execution_count": 7,
   "metadata": {},
   "outputs": [],
   "source": [
    "my_place = tf.placeholder(tf.float32, \n",
    "                          shape=(None, 4)) # Shape depends on the data"
   ]
  },
  {
   "cell_type": "code",
   "execution_count": 8,
   "metadata": {},
   "outputs": [
    {
     "data": {
      "text/plain": [
       "<tf.Tensor 'Placeholder:0' shape=(?, 4) dtype=float32>"
      ]
     },
     "execution_count": 8,
     "metadata": {},
     "output_type": "execute_result"
    }
   ],
   "source": [
    "my_place"
   ]
  },
  {
   "cell_type": "markdown",
   "metadata": {},
   "source": [
    "### TensorFlow Operations"
   ]
  },
  {
   "cell_type": "markdown",
   "metadata": {},
   "source": [
    "![title](tf.png)"
   ]
  },
  {
   "cell_type": "code",
   "execution_count": 15,
   "metadata": {},
   "outputs": [],
   "source": [
    "np.random.seed(101); tf.set_random_seed(101)"
   ]
  },
  {
   "cell_type": "code",
   "execution_count": 16,
   "metadata": {},
   "outputs": [],
   "source": [
    "# Create data\n",
    "rand_a = np.random.uniform(0, 100, (5, 5))\n",
    "rand_b = np.random.uniform(0, 100, (5, 1))"
   ]
  },
  {
   "cell_type": "code",
   "execution_count": 17,
   "metadata": {},
   "outputs": [],
   "source": [
    "# Placeholder\n",
    "a = tf.placeholder(tf.float32)\n",
    "b = tf.placeholder(tf.float32)"
   ]
  },
  {
   "cell_type": "code",
   "execution_count": 22,
   "metadata": {},
   "outputs": [],
   "source": [
    "# Python operations\n",
    "add_op = a + b; mul_op = a*b"
   ]
  },
  {
   "cell_type": "code",
   "execution_count": 25,
   "metadata": {},
   "outputs": [],
   "source": [
    "# Test the operations\n",
    "with tf.Session() as sess:\n",
    "    \n",
    "    add_result = sess.run(add_op, feed_dict = {a:5, b:10})\n",
    "    mul_result = sess.run(mul_op, feed_dict = {a:5, b:10})\n",
    "    mmul_result = sess.run(mul_op, feed_dict = {a:rand_a, b:rand_b})"
   ]
  },
  {
   "cell_type": "code",
   "execution_count": 28,
   "metadata": {},
   "outputs": [
    {
     "name": "stdout",
     "output_type": "stream",
     "text": [
      "15.0 50.0 \n",
      " [[5134.644   5674.25     283.12433 1705.4707  6813.8315 ]\n",
      " [4341.8125  1598.267   4652.734   3756.8293   988.94635]\n",
      " [3207.8113  2038.1029  1052.7742  4546.9805  5588.1157 ]\n",
      " [1707.379    614.02527 4434.989   5356.7773  2029.8555 ]\n",
      " [3714.0984  2806.6438   262.76764  747.19855 1013.292  ]]\n"
     ]
    }
   ],
   "source": [
    "print(add_result, mul_result, \"\\n\", mmul_result)"
   ]
  }
 ],
 "metadata": {
  "kernelspec": {
   "display_name": "tfdl",
   "language": "python",
   "name": "tfdl"
  },
  "language_info": {
   "codemirror_mode": {
    "name": "ipython",
    "version": 3
   },
   "file_extension": ".py",
   "mimetype": "text/x-python",
   "name": "python",
   "nbconvert_exporter": "python",
   "pygments_lexer": "ipython3",
   "version": "3.5.4"
  }
 },
 "nbformat": 4,
 "nbformat_minor": 4
}
