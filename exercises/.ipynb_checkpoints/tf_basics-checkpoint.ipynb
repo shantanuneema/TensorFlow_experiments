{
 "cells": [
  {
   "cell_type": "code",
   "execution_count": 1,
   "metadata": {},
   "outputs": [],
   "source": [
    "import tensorflow as tf"
   ]
  },
  {
   "cell_type": "code",
   "execution_count": 30,
   "metadata": {},
   "outputs": [
    {
     "name": "stdout",
     "output_type": "stream",
     "text": [
      "Tensor(\"Const_22:0\", shape=(), dtype=string)\n",
      "b'Hello World!'\n"
     ]
    }
   ],
   "source": [
    "# Start tensorflow\n",
    "hello = tf.constant(\"Hello \")\n",
    "world = tf.constant(\"World!\")\n",
    "\n",
    "print(hello)\n",
    "\n",
    "with tf.Session() as sess:\n",
    "    result = sess.run(hello+world)\n",
    "\n",
    "print(result)"
   ]
  },
  {
   "cell_type": "code",
   "execution_count": 31,
   "metadata": {},
   "outputs": [],
   "source": [
    "#additions in tensorflow\n",
    "a = tf.constant(10); b = tf.constant(20)\n",
    "with tf.Session() as sess:\n",
    "    result_ = sess.run(a+b)"
   ]
  },
  {
   "cell_type": "code",
   "execution_count": 32,
   "metadata": {},
   "outputs": [
    {
     "name": "stdout",
     "output_type": "stream",
     "text": [
      "10 \n",
      "\n",
      "[[10 10]\n",
      " [10 10]\n",
      " [10 10]\n",
      " [10 10]] \n",
      "\n",
      "[[0. 0. 0. 0.]\n",
      " [0. 0. 0. 0.]\n",
      " [0. 0. 0. 0.]] \n",
      "\n",
      "[[1. 1. 1. 1.]\n",
      " [1. 1. 1. 1.]\n",
      " [1. 1. 1. 1.]\n",
      " [1. 1. 1. 1.]] \n",
      "\n"
     ]
    }
   ],
   "source": [
    "# Interactive session\n",
    "const = tf.constant(10)\n",
    "fill_mat = tf.fill((4, 2), 10)\n",
    "myzeros = tf.zeros((3,4))\n",
    "myones = tf.ones((4,4))\n",
    "\n",
    "sess = tf.InteractiveSession()\n",
    "for op in [const, fill_mat, myzeros, myones]:\n",
    "    print(sess.run(op), \"\\n\")"
   ]
  },
  {
   "cell_type": "code",
   "execution_count": 43,
   "metadata": {},
   "outputs": [
    {
     "name": "stdout",
     "output_type": "stream",
     "text": [
      "(3, 2) (2, 2)\n"
     ]
    },
    {
     "data": {
      "text/plain": [
       "array([[ 50,  15],\n",
       "       [110,  35],\n",
       "       [240,  80]])"
      ]
     },
     "execution_count": 43,
     "metadata": {},
     "output_type": "execute_result"
    }
   ],
   "source": [
    "# matrix multiplication\n",
    "\n",
    "a = tf.constant([[1, 2], \n",
    "                 [3, 4], \n",
    "                 [8, 8]])\n",
    "\n",
    "b = tf.constant([[10, 5], [20, 5]])\n",
    "\n",
    "print(a.get_shape(), b.get_shape())\n",
    "\n",
    "result = tf.matmul(a, b)\n",
    "sess.run(result)"
   ]
  },
  {
   "cell_type": "code",
   "execution_count": 41,
   "metadata": {},
   "outputs": [
    {
     "data": {
      "text/plain": [
       "TensorShape([Dimension(2), Dimension(2)])"
      ]
     },
     "execution_count": 41,
     "metadata": {},
     "output_type": "execute_result"
    }
   ],
   "source": [
    "b.get_shape()"
   ]
  },
  {
   "cell_type": "code",
   "execution_count": null,
   "metadata": {},
   "outputs": [],
   "source": []
  },
  {
   "cell_type": "code",
   "execution_count": null,
   "metadata": {},
   "outputs": [],
   "source": []
  },
  {
   "cell_type": "code",
   "execution_count": null,
   "metadata": {},
   "outputs": [],
   "source": []
  },
  {
   "cell_type": "code",
   "execution_count": null,
   "metadata": {},
   "outputs": [],
   "source": []
  },
  {
   "cell_type": "code",
   "execution_count": null,
   "metadata": {},
   "outputs": [],
   "source": []
  },
  {
   "cell_type": "code",
   "execution_count": null,
   "metadata": {},
   "outputs": [],
   "source": []
  }
 ],
 "metadata": {
  "kernelspec": {
   "display_name": "tfdl",
   "language": "python",
   "name": "tfdl"
  },
  "language_info": {
   "codemirror_mode": {
    "name": "ipython",
    "version": 3
   },
   "file_extension": ".py",
   "mimetype": "text/x-python",
   "name": "python",
   "nbconvert_exporter": "python",
   "pygments_lexer": "ipython3",
   "version": "3.5.4"
  }
 },
 "nbformat": 4,
 "nbformat_minor": 4
}
